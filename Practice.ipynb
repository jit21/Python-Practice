{
 "cells": [
  {
   "cell_type": "markdown",
   "id": "2746c368",
   "metadata": {},
   "source": [
    "Basic python code structer"
   ]
  },
  {
   "cell_type": "code",
   "execution_count": 1,
   "id": "c4254408",
   "metadata": {},
   "outputs": [
    {
     "name": "stdout",
     "output_type": "stream",
     "text": [
      "Hellow Welcome to python\n"
     ]
    }
   ],
   "source": [
    "print(\"Hellow Welcome to python\")"
   ]
  },
  {
   "cell_type": "code",
   "execution_count": null,
   "id": "d11e5ca2",
   "metadata": {},
   "outputs": [],
   "source": []
  },
  {
   "cell_type": "markdown",
   "id": "76319273",
   "metadata": {},
   "source": [
    "# Creating Variables\n",
    "## Python has no command for declaring a variable"
   ]
  },
  {
   "cell_type": "code",
   "execution_count": 3,
   "id": "a4a97c62",
   "metadata": {},
   "outputs": [
    {
     "name": "stdout",
     "output_type": "stream",
     "text": [
      "5\n",
      "jhon\n"
     ]
    }
   ],
   "source": [
    "X= 5\n",
    "Y=\"jhon\"\n",
    "print(X)\n",
    "print(Y)"
   ]
  },
  {
   "cell_type": "markdown",
   "id": "e68cf4ab",
   "metadata": {},
   "source": [
    "# Casting in python\n",
    "## if you want to spicify the data type of the variable then use casting "
   ]
  },
  {
   "cell_type": "code",
   "execution_count": null,
   "id": "f78fb6f3",
   "metadata": {},
   "outputs": [
    {
     "name": "stdout",
     "output_type": "stream",
     "text": [
      "<class 'str'>\n",
      "<class 'int'>\n"
     ]
    }
   ],
   "source": [
    "x= str(3)## now x will be'3' both single and double qutes use  for string in python\n",
    "y= int(x)\n",
    "print(type(x))\n",
    "print(type(y))"
   ]
  },
  {
   "cell_type": "markdown",
   "id": "dcc5785a",
   "metadata": {},
   "source": [
    "# Python Variables - Assign Multiple Values"
   ]
  },
  {
   "cell_type": "code",
   "execution_count": 8,
   "id": "a1c47ab0",
   "metadata": {},
   "outputs": [
    {
     "name": "stdout",
     "output_type": "stream",
     "text": [
      "5\n",
      "3\n",
      "2\n",
      "5\n",
      "5\n",
      "5\n",
      "apple\n",
      "mango\n",
      "banana\n"
     ]
    }
   ],
   "source": [
    "x,y,z=5,3,2\n",
    "print(x)\n",
    "print(y)\n",
    "print(z)\n",
    "a=b=c=5\n",
    "print(a)\n",
    "print(b)\n",
    "print(c)\n",
    "\n",
    "# unpacking of variables in python\n",
    "\n",
    "fruits=[\"apple\",\"mango\",\"banana\"]\n",
    "x,y,z=fruits\n",
    "print(x)\n",
    "print(y)\n",
    "print(z)"
   ]
  },
  {
   "cell_type": "markdown",
   "id": "3a819eee",
   "metadata": {},
   "source": [
    "# Data types in python"
   ]
  },
  {
   "cell_type": "code",
   "execution_count": 32,
   "id": "0910def8",
   "metadata": {},
   "outputs": [
    {
     "name": "stdout",
     "output_type": "stream",
     "text": [
      "<class 'str'>\n",
      "<class 'int'>\n",
      "<class 'float'> 2.5\n",
      "1.0\n",
      "['apple', 'banana ', ' Mango']\n",
      "{'name': 'jhon', 'age': 36}\n",
      "{'apple', 'mango', 'banana'}\n",
      "<class 'complex'>\n",
      "<class 'complex'>\n"
     ]
    }
   ],
   "source": [
    "# Setting up data types by using constructor\n",
    "# String \n",
    "x= str(56757678686)\n",
    "print(type(x))\n",
    "# integer\n",
    "x= int(\"45678\")\n",
    "print(type(x))\n",
    "\n",
    "# Float\n",
    "x= float(2.5)\n",
    "print(type(x),x)\n",
    "\n",
    "# complex data type just lik a+bj a is real number and b is imaginary number\n",
    "\n",
    "x = complex(1j)\n",
    "print(x.imag)\n",
    "\n",
    "# list data similar type of array in java c and c++\n",
    "x= list((\"apple\", \"banana \",\" Mango\"))\n",
    "print(x)\n",
    "\n",
    "# dictionary in python\n",
    "x= dict(name=\"jhon\", age=36)\n",
    "print(x)\n",
    "\n",
    "# set in python\n",
    "\n",
    "x= set((\"apple\",\"banana\",\"mango\"))\n",
    "print(x)\n",
    "\n",
    "x= 3+5j\n",
    "print(type(x))\n",
    "x= 5j\n",
    "print(type(x))\n"
   ]
  },
  {
   "cell_type": "markdown",
   "id": "95b29944",
   "metadata": {},
   "source": []
  },
  {
   "cell_type": "code",
   "execution_count": null,
   "id": "5048b242",
   "metadata": {},
   "outputs": [],
   "source": []
  },
  {
   "cell_type": "code",
   "execution_count": null,
   "id": "728a40fa",
   "metadata": {},
   "outputs": [],
   "source": []
  }
 ],
 "metadata": {
  "kernelspec": {
   "display_name": "Python 3",
   "language": "python",
   "name": "python3"
  },
  "language_info": {
   "codemirror_mode": {
    "name": "ipython",
    "version": 3
   },
   "file_extension": ".py",
   "mimetype": "text/x-python",
   "name": "python",
   "nbconvert_exporter": "python",
   "pygments_lexer": "ipython3",
   "version": "3.10.2"
  }
 },
 "nbformat": 4,
 "nbformat_minor": 5
}
